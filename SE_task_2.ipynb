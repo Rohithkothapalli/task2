{
  "nbformat": 4,
  "nbformat_minor": 0,
  "metadata": {
    "colab": {
      "provenance": [],
      "authorship_tag": "ABX9TyN7DVT2woo2VI+a/enH1TlJ",
      "include_colab_link": true
    },
    "kernelspec": {
      "name": "python3",
      "display_name": "Python 3"
    },
    "language_info": {
      "name": "python"
    }
  },
  "cells": [
    {
      "cell_type": "markdown",
      "metadata": {
        "id": "view-in-github",
        "colab_type": "text"
      },
      "source": [
        "<a href=\"https://colab.research.google.com/github/Rohithkothapalli/task2/blob/main/SE_task_2.ipynb\" target=\"_parent\"><img src=\"https://colab.research.google.com/assets/colab-badge.svg\" alt=\"Open In Colab\"/></a>"
      ]
    },
    {
      "cell_type": "markdown",
      "source": [
        "1.\tHardcoding Variables: Demonstrate by using predefined values.\n",
        "\n",
        "\n"
      ],
      "metadata": {
        "id": "f33BKI2htU0w"
      }
    },
    {
      "cell_type": "code",
      "source": [
        "user_name = \"Alice\"\n",
        "user_age = 30\n",
        "user_city = \"New York\"\n",
        "\n",
        "print(\"User Name:\", user_name)\n",
        "print(\"User Age:\", user_age)\n",
        "print(\"User City:\", user_city)\n"
      ],
      "metadata": {
        "colab": {
          "base_uri": "https://localhost:8080/"
        },
        "id": "QD6bfc0_o9_0",
        "outputId": "18b12b08-0fbe-4dbf-9c32-5379ef25ff3c"
      },
      "execution_count": 25,
      "outputs": [
        {
          "output_type": "stream",
          "name": "stdout",
          "text": [
            "User Name: Alice\n",
            "User Age: 30\n",
            "User City: New York\n"
          ]
        }
      ]
    },
    {
      "cell_type": "markdown",
      "source": [
        "2.\tKeyboard Input: Use Python's input() to accept data from the user."
      ],
      "metadata": {
        "id": "MIX1fUNXtWil"
      }
    },
    {
      "cell_type": "code",
      "source": [
        "user_name = input(\"Enter your name: \")\n",
        "user_age = input(\"Enter your age: \")\n",
        "user_city = input(\"Enter your city: \")\n",
        "\n",
        "print(\"\\nUser Information:\")\n",
        "print(\"Name:\", user_name)\n",
        "print(\"Age:\", user_age)\n",
        "print(\"City:\", user_city)\n"
      ],
      "metadata": {
        "colab": {
          "base_uri": "https://localhost:8080/"
        },
        "id": "AwpW2tyLpgbY",
        "outputId": "acef1420-c121-4763-a7c9-46714e3c5dc2"
      },
      "execution_count": 24,
      "outputs": [
        {
          "output_type": "stream",
          "name": "stdout",
          "text": [
            "Enter your name: alice\n",
            "Enter your age: 30\n",
            "Enter your city: new york\n",
            "\n",
            "User Information:\n",
            "Name: alice\n",
            "Age: 30\n",
            "City: new york\n"
          ]
        }
      ]
    },
    {
      "cell_type": "markdown",
      "source": [
        "3.\tRead From File (Single Input): Read a single input from a file."
      ],
      "metadata": {
        "id": "X02BrQ-StaZF"
      }
    },
    {
      "cell_type": "code",
      "source": [
        "with open(\"input.txt\", \"r\") as file:\n",
        "    line = file.readline()\n",
        "\n",
        "print(\"Content read from file:\", line)"
      ],
      "metadata": {
        "colab": {
          "base_uri": "https://localhost:8080/"
        },
        "id": "Ts_z9HNVpuxt",
        "outputId": "bfea4275-40d8-4948-a96b-677d1165d523"
      },
      "execution_count": 22,
      "outputs": [
        {
          "output_type": "stream",
          "name": "stdout",
          "text": [
            "Content read from file: Name: alice\n",
            "\n"
          ]
        }
      ]
    },
    {
      "cell_type": "markdown",
      "source": [
        "4.\tRead From File (Multiple Inputs): Read multiple inputs from a file and process them."
      ],
      "metadata": {
        "id": "XINM6vYytcsM"
      }
    },
    {
      "cell_type": "code",
      "source": [
        "with open(\"data.txt\", \"r\") as file:\n",
        "    # Read all lines from the file\n",
        "    lines = file.readlines()\n",
        "\n",
        "for line in lines:\n",
        "    elements = line.strip().split(\",\")\n",
        "    if len(elements) == 3:\n",
        "        name, age, city = elements\n",
        "        print(f\"Name: {name}, Age: {age}, City: {city}\")\n",
        "    else:\n",
        "        print(f\"Skipping line: {line.strip()} - Incorrect format\")\n",
        "\n"
      ],
      "metadata": {
        "colab": {
          "base_uri": "https://localhost:8080/"
        },
        "id": "G8LOAYToqsP6",
        "outputId": "ffdf15c1-1eaa-49f4-e972-3113fd4b5e93"
      },
      "execution_count": 26,
      "outputs": [
        {
          "output_type": "stream",
          "name": "stdout",
          "text": [
            "Skipping line: Name: alice - Incorrect format\n",
            "Skipping line: Age: 30 - Incorrect format\n",
            "Skipping line: City: new york - Incorrect format\n"
          ]
        }
      ]
    }
  ]
}